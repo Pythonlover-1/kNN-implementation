{
 "cells": [
  {
   "cell_type": "code",
   "execution_count": 351,
   "id": "initial_id",
   "metadata": {},
   "outputs": [],
   "source": [
    "import numpy as np\n",
    "import pandas as pd\n",
    "from sklearn.model_selection import train_test_split\n",
    "from numpy import pi, exp\n",
    "from sklearn.metrics import pairwise_distances\n",
    "from sklearn.neighbors import NearestNeighbors\n",
    "from tqdm.auto import tqdm\n",
    "from sklearn.metrics import f1_score\n",
    "from itertools import product\n",
    "import matplotlib.pyplot as plt"
   ]
  },
  {
   "cell_type": "code",
   "execution_count": 75,
   "id": "ef103949-30f3-468a-b664-ce5d3436269c",
   "metadata": {},
   "outputs": [],
   "source": [
    "EPS = np.finfo(np.float64).eps"
   ]
  },
  {
   "cell_type": "code",
   "execution_count": 46,
   "id": "8bf91daae067499b",
   "metadata": {
    "collapsed": false,
    "jupyter": {
     "outputs_hidden": false
    }
   },
   "outputs": [
    {
     "data": {
      "text/html": [
       "<div>\n",
       "<style scoped>\n",
       "    .dataframe tbody tr th:only-of-type {\n",
       "        vertical-align: middle;\n",
       "    }\n",
       "\n",
       "    .dataframe tbody tr th {\n",
       "        vertical-align: top;\n",
       "    }\n",
       "\n",
       "    .dataframe thead th {\n",
       "        text-align: right;\n",
       "    }\n",
       "</style>\n",
       "<table border=\"1\" class=\"dataframe\">\n",
       "  <thead>\n",
       "    <tr style=\"text-align: right;\">\n",
       "      <th></th>\n",
       "      <th>age</th>\n",
       "      <th>height</th>\n",
       "      <th>cost</th>\n",
       "      <th>goals_amount</th>\n",
       "      <th>minutes_per_game</th>\n",
       "    </tr>\n",
       "  </thead>\n",
       "  <tbody>\n",
       "    <tr>\n",
       "      <th>0</th>\n",
       "      <td>0.347826</td>\n",
       "      <td>0.760870</td>\n",
       "      <td>1.000000</td>\n",
       "      <td>0.70</td>\n",
       "      <td>0.831293</td>\n",
       "    </tr>\n",
       "    <tr>\n",
       "      <th>1</th>\n",
       "      <td>0.173913</td>\n",
       "      <td>0.282609</td>\n",
       "      <td>0.447236</td>\n",
       "      <td>0.00</td>\n",
       "      <td>0.047619</td>\n",
       "    </tr>\n",
       "    <tr>\n",
       "      <th>2</th>\n",
       "      <td>0.304348</td>\n",
       "      <td>0.391304</td>\n",
       "      <td>0.698492</td>\n",
       "      <td>0.20</td>\n",
       "      <td>0.736996</td>\n",
       "    </tr>\n",
       "    <tr>\n",
       "      <th>3</th>\n",
       "      <td>0.217391</td>\n",
       "      <td>0.521739</td>\n",
       "      <td>0.648241</td>\n",
       "      <td>0.35</td>\n",
       "      <td>0.615079</td>\n",
       "    </tr>\n",
       "    <tr>\n",
       "      <th>4</th>\n",
       "      <td>0.391304</td>\n",
       "      <td>0.391304</td>\n",
       "      <td>0.899497</td>\n",
       "      <td>0.40</td>\n",
       "      <td>0.781633</td>\n",
       "    </tr>\n",
       "    <tr>\n",
       "      <th>5</th>\n",
       "      <td>0.521739</td>\n",
       "      <td>0.673913</td>\n",
       "      <td>0.648241</td>\n",
       "      <td>0.00</td>\n",
       "      <td>0.495238</td>\n",
       "    </tr>\n",
       "    <tr>\n",
       "      <th>6</th>\n",
       "      <td>0.217391</td>\n",
       "      <td>0.413043</td>\n",
       "      <td>0.396985</td>\n",
       "      <td>0.15</td>\n",
       "      <td>0.827706</td>\n",
       "    </tr>\n",
       "    <tr>\n",
       "      <th>7</th>\n",
       "      <td>0.304348</td>\n",
       "      <td>0.304348</td>\n",
       "      <td>0.547739</td>\n",
       "      <td>0.15</td>\n",
       "      <td>0.646886</td>\n",
       "    </tr>\n",
       "    <tr>\n",
       "      <th>8</th>\n",
       "      <td>0.434783</td>\n",
       "      <td>0.478261</td>\n",
       "      <td>0.648241</td>\n",
       "      <td>0.15</td>\n",
       "      <td>0.826667</td>\n",
       "    </tr>\n",
       "    <tr>\n",
       "      <th>9</th>\n",
       "      <td>0.434783</td>\n",
       "      <td>0.478261</td>\n",
       "      <td>0.422111</td>\n",
       "      <td>0.00</td>\n",
       "      <td>0.761172</td>\n",
       "    </tr>\n",
       "  </tbody>\n",
       "</table>\n",
       "</div>"
      ],
      "text/plain": [
       "        age    height      cost  goals_amount  minutes_per_game\n",
       "0  0.347826  0.760870  1.000000          0.70          0.831293\n",
       "1  0.173913  0.282609  0.447236          0.00          0.047619\n",
       "2  0.304348  0.391304  0.698492          0.20          0.736996\n",
       "3  0.217391  0.521739  0.648241          0.35          0.615079\n",
       "4  0.391304  0.391304  0.899497          0.40          0.781633\n",
       "5  0.521739  0.673913  0.648241          0.00          0.495238\n",
       "6  0.217391  0.413043  0.396985          0.15          0.827706\n",
       "7  0.304348  0.304348  0.547739          0.15          0.646886\n",
       "8  0.434783  0.478261  0.648241          0.15          0.826667\n",
       "9  0.434783  0.478261  0.422111          0.00          0.761172"
      ]
     },
     "execution_count": 46,
     "metadata": {},
     "output_type": "execute_result"
    }
   ],
   "source": [
    "# загружаем только числовые признаки, чтобы считать расстояние между объектами\n",
    "data = pd.read_csv(\"data/normalized_data_fresh.csv\", delimiter=\",\", decimal=\".\")\n",
    "numeric_data = data[[\"age\", \"height\", \"cost\", \"goals_amount\", \"minutes_per_game\"]]\n",
    "targets = data[\"target\"]\n",
    "positions = tuple(set(targets.to_list()))\n",
    "numeric_data.head(10)"
   ]
  },
  {
   "cell_type": "code",
   "execution_count": 403,
   "id": "48cb5410-6d92-4420-840d-328d386d4fad",
   "metadata": {},
   "outputs": [
    {
     "data": {
      "text/plain": [
       "('left-midfield',\n",
       " 'left-winger',\n",
       " 'right-midfield',\n",
       " 'defensive-midfield',\n",
       " 'centre-back',\n",
       " 'right-back',\n",
       " 'left-back',\n",
       " 'attacking-midfield',\n",
       " 'goalkeeper',\n",
       " 'right-winger',\n",
       " 'centre-forward',\n",
       " 'central-midfield',\n",
       " 'second-striker')"
      ]
     },
     "execution_count": 403,
     "metadata": {},
     "output_type": "execute_result"
    }
   ],
   "source": [
    "positions"
   ]
  },
  {
   "cell_type": "code",
   "execution_count": 47,
   "id": "8dc4a70d-92c1-4a0c-b9cd-c33fa0d12f2a",
   "metadata": {},
   "outputs": [
    {
     "data": {
      "text/plain": [
       "0           centre-forward\n",
       "1         central-midfield\n",
       "2             right-winger\n",
       "3       attacking-midfield\n",
       "4           centre-forward\n",
       "               ...        \n",
       "2996          right-winger\n",
       "2997          right-winger\n",
       "2998           left-winger\n",
       "2999            goalkeeper\n",
       "3000           centre-back\n",
       "Name: target, Length: 3001, dtype: object"
      ]
     },
     "execution_count": 47,
     "metadata": {},
     "output_type": "execute_result"
    }
   ],
   "source": [
    "targets"
   ]
  },
  {
   "cell_type": "code",
   "execution_count": 48,
   "id": "90b3497e-15b4-43aa-80e3-7e94393fe26e",
   "metadata": {},
   "outputs": [],
   "source": [
    "# разбиваем данные на тренировочную и тестовую части\n",
    "data_train, data_test, target_train, target_test = train_test_split(numeric_data, targets, train_size=0.8)"
   ]
  },
  {
   "cell_type": "code",
   "execution_count": 49,
   "id": "b727ee28-4140-465e-93ac-a5f3b5ed1048",
   "metadata": {},
   "outputs": [
    {
     "data": {
      "text/html": [
       "<div>\n",
       "<style scoped>\n",
       "    .dataframe tbody tr th:only-of-type {\n",
       "        vertical-align: middle;\n",
       "    }\n",
       "\n",
       "    .dataframe tbody tr th {\n",
       "        vertical-align: top;\n",
       "    }\n",
       "\n",
       "    .dataframe thead th {\n",
       "        text-align: right;\n",
       "    }\n",
       "</style>\n",
       "<table border=\"1\" class=\"dataframe\">\n",
       "  <thead>\n",
       "    <tr style=\"text-align: right;\">\n",
       "      <th></th>\n",
       "      <th>age</th>\n",
       "      <th>height</th>\n",
       "      <th>cost</th>\n",
       "      <th>goals_amount</th>\n",
       "      <th>minutes_per_game</th>\n",
       "    </tr>\n",
       "  </thead>\n",
       "  <tbody>\n",
       "    <tr>\n",
       "      <th>1049</th>\n",
       "      <td>0.173913</td>\n",
       "      <td>0.369565</td>\n",
       "      <td>0.045226</td>\n",
       "      <td>0.15</td>\n",
       "      <td>0.669312</td>\n",
       "    </tr>\n",
       "    <tr>\n",
       "      <th>1656</th>\n",
       "      <td>0.260870</td>\n",
       "      <td>0.500000</td>\n",
       "      <td>0.025126</td>\n",
       "      <td>0.05</td>\n",
       "      <td>0.340000</td>\n",
       "    </tr>\n",
       "    <tr>\n",
       "      <th>1621</th>\n",
       "      <td>0.304348</td>\n",
       "      <td>0.608696</td>\n",
       "      <td>0.025126</td>\n",
       "      <td>0.00</td>\n",
       "      <td>0.841905</td>\n",
       "    </tr>\n",
       "    <tr>\n",
       "      <th>1024</th>\n",
       "      <td>0.217391</td>\n",
       "      <td>0.434783</td>\n",
       "      <td>0.045226</td>\n",
       "      <td>0.05</td>\n",
       "      <td>0.331429</td>\n",
       "    </tr>\n",
       "    <tr>\n",
       "      <th>2503</th>\n",
       "      <td>0.347826</td>\n",
       "      <td>0.326087</td>\n",
       "      <td>0.010050</td>\n",
       "      <td>0.25</td>\n",
       "      <td>0.623280</td>\n",
       "    </tr>\n",
       "    <tr>\n",
       "      <th>...</th>\n",
       "      <td>...</td>\n",
       "      <td>...</td>\n",
       "      <td>...</td>\n",
       "      <td>...</td>\n",
       "      <td>...</td>\n",
       "    </tr>\n",
       "    <tr>\n",
       "      <th>2085</th>\n",
       "      <td>0.173913</td>\n",
       "      <td>0.630435</td>\n",
       "      <td>0.015075</td>\n",
       "      <td>0.00</td>\n",
       "      <td>0.620952</td>\n",
       "    </tr>\n",
       "    <tr>\n",
       "      <th>628</th>\n",
       "      <td>0.173913</td>\n",
       "      <td>0.217391</td>\n",
       "      <td>0.075377</td>\n",
       "      <td>0.10</td>\n",
       "      <td>0.740659</td>\n",
       "    </tr>\n",
       "    <tr>\n",
       "      <th>1708</th>\n",
       "      <td>0.304348</td>\n",
       "      <td>0.673913</td>\n",
       "      <td>0.025126</td>\n",
       "      <td>0.00</td>\n",
       "      <td>0.788571</td>\n",
       "    </tr>\n",
       "    <tr>\n",
       "      <th>1048</th>\n",
       "      <td>0.260870</td>\n",
       "      <td>0.434783</td>\n",
       "      <td>0.045226</td>\n",
       "      <td>0.05</td>\n",
       "      <td>0.825714</td>\n",
       "    </tr>\n",
       "    <tr>\n",
       "      <th>66</th>\n",
       "      <td>0.086957</td>\n",
       "      <td>0.282609</td>\n",
       "      <td>0.296482</td>\n",
       "      <td>0.10</td>\n",
       "      <td>0.113228</td>\n",
       "    </tr>\n",
       "  </tbody>\n",
       "</table>\n",
       "<p>2400 rows × 5 columns</p>\n",
       "</div>"
      ],
      "text/plain": [
       "           age    height      cost  goals_amount  minutes_per_game\n",
       "1049  0.173913  0.369565  0.045226          0.15          0.669312\n",
       "1656  0.260870  0.500000  0.025126          0.05          0.340000\n",
       "1621  0.304348  0.608696  0.025126          0.00          0.841905\n",
       "1024  0.217391  0.434783  0.045226          0.05          0.331429\n",
       "2503  0.347826  0.326087  0.010050          0.25          0.623280\n",
       "...        ...       ...       ...           ...               ...\n",
       "2085  0.173913  0.630435  0.015075          0.00          0.620952\n",
       "628   0.173913  0.217391  0.075377          0.10          0.740659\n",
       "1708  0.304348  0.673913  0.025126          0.00          0.788571\n",
       "1048  0.260870  0.434783  0.045226          0.05          0.825714\n",
       "66    0.086957  0.282609  0.296482          0.10          0.113228\n",
       "\n",
       "[2400 rows x 5 columns]"
      ]
     },
     "execution_count": 49,
     "metadata": {},
     "output_type": "execute_result"
    }
   ],
   "source": [
    "data_train"
   ]
  },
  {
   "cell_type": "code",
   "execution_count": 50,
   "id": "1d97abde-9b3c-4193-b056-aa4e81203361",
   "metadata": {},
   "outputs": [
    {
     "data": {
      "text/plain": [
       "1049    attacking-midfield\n",
       "1656        centre-forward\n",
       "1621           centre-back\n",
       "1024        centre-forward\n",
       "2503           left-winger\n",
       "               ...        \n",
       "2085           centre-back\n",
       "628           right-winger\n",
       "1708            goalkeeper\n",
       "1048          right-winger\n",
       "66          centre-forward\n",
       "Name: target, Length: 2400, dtype: object"
      ]
     },
     "execution_count": 50,
     "metadata": {},
     "output_type": "execute_result"
    }
   ],
   "source": [
    "target_train"
   ]
  },
  {
   "cell_type": "code",
   "execution_count": 430,
   "id": "3412aeae-ff00-4392-b7f6-153eb8762eae",
   "metadata": {},
   "outputs": [],
   "source": [
    "# класс для ядерных функций\n",
    "class Customkernel:\n",
    "    def __init__(self, name, func):\n",
    "        self.name = name\n",
    "        self.func = func\n",
    "\n",
    "    def __call__(self, *args, **kwargs):\n",
    "        return self.func(*args)\n",
    "\n",
    "    def __str__(self):\n",
    "        return self.name"
   ]
  },
  {
   "cell_type": "code",
   "execution_count": 431,
   "id": "fcc7dc50a6dd089d",
   "metadata": {
    "collapsed": false,
    "jupyter": {
     "outputs_hidden": false
    }
   },
   "outputs": [],
   "source": [
    "# инициализируем ядра\n",
    "GAUSSIAN_KERNEL = Customkernel(\"Guassian\", lambda u: 1 / np.sqrt(2 * pi) * exp(-1 / 2 * u**2))\n",
    "UNIFORM_KERNEL = Customkernel(\"Uniform\", lambda u: 1 / 2 * (abs(u) < 1))\n",
    "TRIANGULAR_KERNEL = Customkernel(\"Triangular\", lambda u: (1 - abs(u)) * (abs(u) < 1))\n",
    "EPANECHNIKOV_KERNEL = Customkernel(\"Epanechnikov\", lambda u: 3 / 4 * (1 - u**2) * (abs(u) < 1))\n",
    "KERNELS = [GAUSSIAN_KERNEL, UNIFORM_KERNEL, TRIANGULAR_KERNEL, EPANECHNIKOV_KERNEL]"
   ]
  },
  {
   "cell_type": "code",
   "execution_count": 14,
   "id": "fae5f00b-2eb4-4aab-8bc4-c53c9477ca38",
   "metadata": {},
   "outputs": [],
   "source": [
    "# инициализируем метрики\n",
    "METRICS = [\"cosine\", \"euclidean\", \"manhattan\", \"chebyshev\"]"
   ]
  },
  {
   "cell_type": "code",
   "execution_count": 107,
   "id": "5b083782-0e6c-4064-a7e6-9f8ce574524b",
   "metadata": {},
   "outputs": [],
   "source": [
    "# инициализируем размеры окон\n",
    "hs = [1, 0.5, 1e-1, 5e-2, 1e-2, 5e-3, 1e-3, 5e-4, 1e-4]"
   ]
  },
  {
   "cell_type": "code",
   "execution_count": 128,
   "id": "f3ab6855-d935-4843-b814-bc9f09257297",
   "metadata": {},
   "outputs": [],
   "source": [
    "# инициализируем k для метода с нефиксированной шириной окна\n",
    "ks = [1, 5, 11, 21, 51, 101, 301, 501, 1001, 1501]"
   ]
  },
  {
   "cell_type": "code",
   "execution_count": 428,
   "id": "44eb7f57-9a59-4cfc-92f9-80c5337a3d06",
   "metadata": {},
   "outputs": [],
   "source": [
    "# главная функция всей лабораторной: предсказание классов методом ближайших соседей\n",
    "def windowed_classification(train_data, train_targets, classes, metric, window_size, kernel, pred_data=None, apr_weights=None):\n",
    "    if pred_data is None:\n",
    "        pred_data = train_data.copy()\n",
    "        remove_diag = ~np.eye(train_data.shape[0], train_data.shape[0]).astype(np.bool_)\n",
    "    else:\n",
    "        remove_diag = np.ones((pred_data.shape[0], train_data.shape[0]))\n",
    "    if apr_weights is None:\n",
    "        apr_weights = np.ones((pred_data.shape[0],))\n",
    "    dists_kernel = kernel(pairwise_distances(pred_data, train_data, metric=metric) / window_size)[None]\n",
    "    weighted = dists_kernel * apr_weights[None, :, None]\n",
    "    classes_mask = []\n",
    "    for cl in classes:\n",
    "        classes_mask.append(train_targets == cl)\n",
    "    classes_mask = np.array(classes_mask)[:, None]\n",
    "    weighted_samples_classes = (weighted * classes_mask * remove_diag[None]).sum(axis=2).T\n",
    "    ans = weighted_samples_classes.argmax(axis=-1)\n",
    "    assert ans.shape[0] == pred_data.shape[0]\n",
    "    return ans"
   ]
  },
  {
   "cell_type": "code",
   "execution_count": 432,
   "id": "b13d6f9f-c9bc-4344-8512-5372129d739c",
   "metadata": {},
   "outputs": [
    {
     "name": "stdout",
     "output_type": "stream",
     "text": [
      "Класс 0:\t26\n",
      "Класс 1:\t234\n",
      "Класс 2:\t23\n",
      "Класс 3:\t206\n",
      "Класс 4:\t396\n",
      "Класс 5:\t166\n",
      "Класс 6:\t134\n",
      "Класс 7:\t194\n",
      "Класс 8:\t129\n",
      "Класс 9:\t220\n",
      "Класс 10:\t357\n",
      "Класс 11:\t300\n",
      "Класс 12:\t15\n",
      "Всего:\t\t2400\n"
     ]
    }
   ],
   "source": [
    "# выводим количество объектов каждого класса в тренировочных данных\n",
    "c = 0\n",
    "for i in range(len(positions)):\n",
    "    pr = (target_train == positions[i]).sum()\n",
    "    c += pr\n",
    "    print(f\"Класс {i}:\\t{pr}\")\n",
    "print(f\"Всего:\\t\\t{c}\")"
   ]
  },
  {
   "cell_type": "code",
   "execution_count": 426,
   "id": "dc580a8d-b950-4b54-8bc4-2e7a6e980119",
   "metadata": {},
   "outputs": [],
   "source": [
    "# задаём набор гиперпараметров для обучения\n",
    "param_grid = [METRICS, KERNELS]\n",
    "scores = []"
   ]
  },
  {
   "cell_type": "code",
   "execution_count": 427,
   "id": "ca03d998-bf65-493b-9ffe-858a8cbe1b7b",
   "metadata": {},
   "outputs": [],
   "source": [
    "# записываем позиции футболистов с помощью чисел от 0 до 12 (для тренировочной части данных)\n",
    "ind_train_positions = []\n",
    "for pos in positions:\n",
    "    ind_train_positions.append(target_train == pos)\n",
    "ind_train_positions = np.array(ind_train_positions).T.argmax(axis=1)"
   ]
  },
  {
   "cell_type": "code",
   "execution_count": 433,
   "id": "d636edcd-8e86-44c7-93f3-cac7a2f321f5",
   "metadata": {},
   "outputs": [
    {
     "name": "stdout",
     "output_type": "stream",
     "text": [
      "С фиксированной шириной окна\n"
     ]
    },
    {
     "data": {
      "application/vnd.jupyter.widget-view+json": {
       "model_id": "32671525a4694efd8039a9e5c39f6520",
       "version_major": 2,
       "version_minor": 0
      },
      "text/plain": [
       "  0%|          | 0/144 [00:00<?, ?it/s]"
      ]
     },
     "metadata": {},
     "output_type": "display_data"
    },
    {
     "name": "stdout",
     "output_type": "stream",
     "text": [
      "Best score: 0.3333333333333333\n",
      "Гиперпараметры:\n",
      "\tmetric:\tmanhattan\n",
      "\th:\t0.1\n",
      "\tkernel:\tGuassian\n"
     ]
    }
   ],
   "source": [
    "scores_with_fixed_width = []\n",
    "print(\"С фиксированной шириной окна\")\n",
    "for p in tqdm(list(product(*(param_grid + [hs])))):\n",
    "    m, kern, h = p\n",
    "    score = f1_score(windowed_classification(data_train, target_train, positions, m, h, kern), \n",
    "                     ind_train_positions, average=\"micro\")\n",
    "    scores_with_fixed_width.append((score, (m, h, str(kern))))\n",
    "best_fixed_width_score, parameters = max(scores_with_fixed_width)\n",
    "best_metric, best_h, best_kernel = parameters\n",
    "print(f\"Best score: {best_fixed_width_score}\")\n",
    "print(f\"Гиперпараметры:\\n\\tmetric:\\t{best_metric}\\n\\th:\\t{best_h}\\n\\tkernel:\\t{str(best_kernel)}\")\n",
    "scores.extend(scores_with_fixed_width)"
   ]
  },
  {
   "cell_type": "code",
   "execution_count": 434,
   "id": "b40e5b42-1230-421c-99b4-fb896e64dac0",
   "metadata": {},
   "outputs": [
    {
     "name": "stdout",
     "output_type": "stream",
     "text": [
      "С нефиксированной шириной окна\n"
     ]
    },
    {
     "data": {
      "application/vnd.jupyter.widget-view+json": {
       "model_id": "22f8ba2ea97e46a9b8b3d412aca55c76",
       "version_major": 2,
       "version_minor": 0
      },
      "text/plain": [
       "  0%|          | 0/160 [00:00<?, ?it/s]"
      ]
     },
     "metadata": {},
     "output_type": "display_data"
    },
    {
     "name": "stdout",
     "output_type": "stream",
     "text": [
      "Best score: 0.33875\n",
      "Гиперпараметры:\n",
      "\tmetric:\tmanhattan\n",
      "\th:\t101\n",
      "\tkernel:\tEpanechnikov\n"
     ]
    }
   ],
   "source": [
    "scores_with_non_fixed_width = []\n",
    "print(\"С нефиксированной шириной окна\")\n",
    "prev_m = None\n",
    "for p in tqdm(list(product(*(param_grid + [ks])))):\n",
    "    m, kern, k = p\n",
    "    if m != prev_m:\n",
    "        # создадим и обучим объект класса NearestNeighbors для быстрого ответа на запросы ближайших соседей\n",
    "        neigh = NearestNeighbors(n_neighbors=(max(ks) + 2), metric=m)\n",
    "        neigh.fit(data_train)\n",
    "        prev_m = m\n",
    "    # важно, что мы берём именно k + 2 (в формуле нужно брать k + 1 + пропускаем сами себя)\n",
    "    dists = neigh.kneighbors(data_train, k + 2)[0][:, -1]\n",
    "    dists = dists + (dists < EPS) * np.full(dists.shape, fill_value=EPS, dtype=np.float64)\n",
    "    score = f1_score(windowed_classification(data_train, target_train, positions, m, dists[:, None], kern), \n",
    "                     ind_train_positions, average=\"micro\")\n",
    "    scores_with_non_fixed_width.append((score, (m, k, str(kern))))\n",
    "best_non_fixed_width_score, parameters = max(scores_with_non_fixed_width)\n",
    "best_metric, best_h, best_kernel = parameters\n",
    "print(f\"Best score: {best_non_fixed_width_score}\")\n",
    "print(f\"Гиперпараметры:\\n\\tmetric:\\t{best_metric}\\n\\tk:\\t{best_h}\\n\\tkernel:\\t{str(best_kernel)}\")\n",
    "scores.extend(scores_with_non_fixed_width)"
   ]
  },
  {
   "cell_type": "code",
   "execution_count": 436,
   "id": "cac9ea9b-cb03-4d2f-bb3d-5b5b261caf19",
   "metadata": {},
   "outputs": [
    {
     "name": "stdout",
     "output_type": "stream",
     "text": [
      "Best score: 0.33875\n",
      "Гиперпараметры:\n",
      "\tmetric:\tmanhattan\n",
      "\th:\t101\n",
      "\tkernel:\tEpanechnikov\n"
     ]
    }
   ],
   "source": [
    "# выводим набор лучших гиперпараметров\n",
    "best_both_score, best_parameters = max(scores)\n",
    "best_metric, best_h, best_kernel = best_parameters\n",
    "print(f\"Best score: {best_both_score}\")\n",
    "print(f\"Гиперпараметры:\\n\\tmetric:\\t{best_metric}\\n\\tk:\\t{best_h}\\n\\tkernel:\\t{str(best_kernel)}\")"
   ]
  },
  {
   "cell_type": "code",
   "execution_count": 437,
   "id": "ff586585-1ce5-4d23-9f80-b5e749280795",
   "metadata": {},
   "outputs": [],
   "source": [
    "# записываем позиции футболистов с помощью чисел от 0 до 12 (для тестовой части данных)\n",
    "ind_test_positions = []\n",
    "for pos in positions:\n",
    "    ind_test_positions.append(target_test == pos)\n",
    "ind_test_positions = np.array(ind_test_positions).T.argmax(axis=1)"
   ]
  },
  {
   "cell_type": "code",
   "execution_count": 438,
   "id": "3df4ee86-d66e-4e74-b360-5ecf2a51a76b",
   "metadata": {},
   "outputs": [
    {
     "name": "stdout",
     "output_type": "stream",
     "text": [
      "Score on test (fixed window width):\t0.2895174708818636\n"
     ]
    }
   ],
   "source": [
    "# считаем f-меру на тестовой выборке, используя лучшие гиперпараметры для метода с фиксированной шириной окна\n",
    "m, h, kern = \"manhattan\", 0.1, GAUSSIAN_KERNEL\n",
    "predicted = windowed_classification(data_train, target_train, positions, m, h, kern, data_test)\n",
    "test_score = f1_score(predicted, \n",
    "                      ind_test_positions, average=\"micro\")\n",
    "print(f\"Score on test (fixed window width):\\t{test_score}\")"
   ]
  },
  {
   "cell_type": "code",
   "execution_count": 450,
   "id": "926065ff-0a2f-459a-97dd-90d06524e810",
   "metadata": {},
   "outputs": [
    {
     "name": "stdout",
     "output_type": "stream",
     "text": [
      "Score on test (non fixed window width):\t0.2995008319467554\n"
     ]
    }
   ],
   "source": [
    "# считаем f-меру на тестовой выборке, используя лучшие гиперпараметры для метода с нефиксированной шириной окна\n",
    "m, k, kern = \"manhattan\", 101, EPANECHNIKOV_KERNEL\n",
    "neigh = NearestNeighbors(n_neighbors=(k + 1), metric=m)\n",
    "neigh.fit(data_train)\n",
    "dists = neigh.kneighbors(data_test, k + 1)[0][:, -1]\n",
    "dists = dists + (dists < EPS) * np.full(dists.shape, fill_value=EPS, dtype=np.float64)\n",
    "predicted = windowed_classification(data_train, target_train, positions, m, dists[:, None], kern, data_test)\n",
    "test_score = f1_score(predicted, \n",
    "                      ind_test_positions, average=\"micro\")\n",
    "print(f\"Score on test (non fixed window width):\\t{test_score}\")"
   ]
  },
  {
   "cell_type": "code",
   "execution_count": 440,
   "id": "f0fe4adc-e67c-4af4-97b0-445bf1642690",
   "metadata": {},
   "outputs": [
    {
     "data": {
      "image/png": "[encoded data removed]",
      "text/plain": [
       "<Figure size 640x480 with 1 Axes>"
      ]
     },
     "metadata": {},
     "output_type": "display_data"
    }
   ],
   "source": [
    "# строим график зависимости f-меры от количества соседей k для тренировочной части данных\n",
    "m, kern = \"manhattan\", EPANECHNIKOV_KERNEL\n",
    "train_scores = []\n",
    "neigh = NearestNeighbors(n_neighbors=(max(ks) + 1), metric=m)\n",
    "neigh.fit(data_train)\n",
    "for k in ks:\n",
    "    dists_train = neigh.kneighbors(data_train, k + 2)[0][:, -1]\n",
    "    dists_train = dists_train + (dists_train < EPS) * np.full(dists_train.shape, fill_value=EPS, dtype=np.float64)\n",
    "    predicted_train = windowed_classification(data_train, target_train, positions, m, dists_train[:, None], kern)\n",
    "    train_score = f1_score(predicted_train, ind_train_positions, average=\"micro\")\n",
    "    train_scores.append(train_score)\n",
    "plt.plot(ks, train_scores)\n",
    "plt.xlabel('k for KNN')\n",
    "plt.ylabel('F1 score on the train data')\n",
    "plt.title(\"Train data scores\")\n",
    "plt.show()"
   ]
  },
  {
   "cell_type": "code",
   "execution_count": 441,
   "id": "e0ce6c6f-1130-42a6-b9de-8dd83a60f62b",
   "metadata": {},
   "outputs": [
    {
     "data": {
      "image/png": "[encoded data removed]",
      "text/plain": [
       "<Figure size 640x480 with 1 Axes>"
      ]
     },
     "metadata": {},
     "output_type": "display_data"
    }
   ],
   "source": [
    "# строим график зависимости f-меры от количества соседей k для тестовой части данных\n",
    "m, kern = \"manhattan\", EPANECHNIKOV_KERNEL\n",
    "test_scores = []\n",
    "neigh = NearestNeighbors(n_neighbors=(max(ks) + 1), metric=m)\n",
    "neigh.fit(data_train)\n",
    "for k in ks:\n",
    "    dists_test = neigh.kneighbors(data_test, k + 1)[0][:, -1]\n",
    "    dists_test = dists_test + (dists_test < EPS) * np.full(dists_test.shape, fill_value=EPS, dtype=np.float64)\n",
    "    predicted_test = windowed_classification(data_train, target_train, positions, m, dists_test[:, None], kern, data_test)\n",
    "    test_score = f1_score(predicted_test, ind_test_positions, average=\"micro\")\n",
    "    test_scores.append(test_score)\n",
    "plt.plot(ks, test_scores)\n",
    "plt.xlabel('k for KNN')\n",
    "plt.ylabel('F1 score on the test data')\n",
    "plt.title(\"Test data scores\")\n",
    "plt.show()"
   ]
  },
  {
   "cell_type": "code",
   "execution_count": 442,
   "id": "e7c5a716-239a-4fdb-ba84-a4adadebbda3",
   "metadata": {},
   "outputs": [
    {
     "data": {
      "text/html": [
       "<style>#sk-container-id-30 {\n",
       "  /* Definition of color scheme common for light and dark mode */\n",
       "  --sklearn-color-text: black;\n",
       "  --sklearn-color-line: gray;\n",
       "  /* Definition of color scheme for unfitted estimators */\n",
       "  --sklearn-color-unfitted-level-0: #fff5e6;\n",
       "  --sklearn-color-unfitted-level-1: #f6e4d2;\n",
       "  --sklearn-color-unfitted-level-2: #ffe0b3;\n",
       "  --sklearn-color-unfitted-level-3: chocolate;\n",
       "  /* Definition of color scheme for fitted estimators */\n",
       "  --sklearn-color-fitted-level-0: #f0f8ff;\n",
       "  --sklearn-color-fitted-level-1: #d4ebff;\n",
       "  --sklearn-color-fitted-level-2: #b3dbfd;\n",
       "  --sklearn-color-fitted-level-3: cornflowerblue;\n",
       "\n",
       "  /* Specific color for light theme */\n",
       "  --sklearn-color-text-on-default-background: var(--sg-text-color, var(--theme-code-foreground, var(--jp-content-font-color1, black)));\n",
       "  --sklearn-color-background: var(--sg-background-color, var(--theme-background, var(--jp-layout-color0, white)));\n",
       "  --sklearn-color-border-box: var(--sg-text-color, var(--theme-code-foreground, var(--jp-content-font-color1, black)));\n",
       "  --sklearn-color-icon: #696969;\n",
       "\n",
       "  @media (prefers-color-scheme: dark) {\n",
       "    /* Redefinition of color scheme for dark theme */\n",
       "    --sklearn-color-text-on-default-background: var(--sg-text-color, var(--theme-code-foreground, var(--jp-content-font-color1, white)));\n",
       "    --sklearn-color-background: var(--sg-background-color, var(--theme-background, var(--jp-layout-color0, #111)));\n",
       "    --sklearn-color-border-box: var(--sg-text-color, var(--theme-code-foreground, var(--jp-content-font-color1, white)));\n",
       "    --sklearn-color-icon: #878787;\n",
       "  }\n",
       "}\n",
       "\n",
       "#sk-container-id-30 {\n",
       "  color: var(--sklearn-color-text);\n",
       "}\n",
       "\n",
       "#sk-container-id-30 pre {\n",
       "  padding: 0;\n",
       "}\n",
       "\n",
       "#sk-container-id-30 input.sk-hidden--visually {\n",
       "  border: 0;\n",
       "  clip: rect(1px 1px 1px 1px);\n",
       "  clip: rect(1px, 1px, 1px, 1px);\n",
       "  height: 1px;\n",
       "  margin: -1px;\n",
       "  overflow: hidden;\n",
       "  padding: 0;\n",
       "  position: absolute;\n",
       "  width: 1px;\n",
       "}\n",
       "\n",
       "#sk-container-id-30 div.sk-dashed-wrapped {\n",
       "  border: 1px dashed var(--sklearn-color-line);\n",
       "  margin: 0 0.4em 0.5em 0.4em;\n",
       "  box-sizing: border-box;\n",
       "  padding-bottom: 0.4em;\n",
       "  background-color: var(--sklearn-color-background);\n",
       "}\n",
       "\n",
       "#sk-container-id-30 div.sk-container {\n",
       "  /* jupyter's `normalize.less` sets `[hidden] { display: none; }`\n",
       "     but bootstrap.min.css set `[hidden] { display: none !important; }`\n",
       "     so we also need the `!important` here to be able to override the\n",
       "     default hidden behavior on the sphinx rendered scikit-learn.org.\n",
       "     See: https://github.com/scikit-learn/scikit-learn/issues/21755 */\n",
       "  display: inline-block !important;\n",
       "  position: relative;\n",
       "}\n",
       "\n",
       "#sk-container-id-30 div.sk-text-repr-fallback {\n",
       "  display: none;\n",
       "}\n",
       "\n",
       "div.sk-parallel-item,\n",
       "div.sk-serial,\n",
       "div.sk-item {\n",
       "  /* draw centered vertical line to link estimators */\n",
       "  background-image: linear-gradient(var(--sklearn-color-text-on-default-background), var(--sklearn-color-text-on-default-background));\n",
       "  background-size: 2px 100%;\n",
       "  background-repeat: no-repeat;\n",
       "  background-position: center center;\n",
       "}\n",
       "\n",
       "/* Parallel-specific style estimator block */\n",
       "\n",
       "#sk-container-id-30 div.sk-parallel-item::after {\n",
       "  content: \"\";\n",
       "  width: 100%;\n",
       "  border-bottom: 2px solid var(--sklearn-color-text-on-default-background);\n",
       "  flex-grow: 1;\n",
       "}\n",
       "\n",
       "#sk-container-id-30 div.sk-parallel {\n",
       "  display: flex;\n",
       "  align-items: stretch;\n",
       "  justify-content: center;\n",
       "  background-color: var(--sklearn-color-background);\n",
       "  position: relative;\n",
       "}\n",
       "\n",
       "#sk-container-id-30 div.sk-parallel-item {\n",
       "  display: flex;\n",
       "  flex-direction: column;\n",
       "}\n",
       "\n",
       "#sk-container-id-30 div.sk-parallel-item:first-child::after {\n",
       "  align-self: flex-end;\n",
       "  width: 50%;\n",
       "}\n",
       "\n",
       "#sk-container-id-30 div.sk-parallel-item:last-child::after {\n",
       "  align-self: flex-start;\n",
       "  width: 50%;\n",
       "}\n",
       "\n",
       "#sk-container-id-30 div.sk-parallel-item:only-child::after {\n",
       "  width: 0;\n",
       "}\n",
       "\n",
       "/* Serial-specific style estimator block */\n",
       "\n",
       "#sk-container-id-30 div.sk-serial {\n",
       "  display: flex;\n",
       "  flex-direction: column;\n",
       "  align-items: center;\n",
       "  background-color: var(--sklearn-color-background);\n",
       "  padding-right: 1em;\n",
       "  padding-left: 1em;\n",
       "}\n",
       "\n",
       "\n",
       "/* Toggleable style: style used for estimator/Pipeline/ColumnTransformer box that is\n",
       "clickable and can be expanded/collapsed.\n",
       "- Pipeline and ColumnTransformer use this feature and define the default style\n",
       "- Estimators will overwrite some part of the style using the `sk-estimator` class\n",
       "*/\n",
       "\n",
       "/* Pipeline and ColumnTransformer style (default) */\n",
       "\n",
       "#sk-container-id-30 div.sk-toggleable {\n",
       "  /* Default theme specific background. It is overwritten whether we have a\n",
       "  specific estimator or a Pipeline/ColumnTransformer */\n",
       "  background-color: var(--sklearn-color-background);\n",
       "}\n",
       "\n",
       "/* Toggleable label */\n",
       "#sk-container-id-30 label.sk-toggleable__label {\n",
       "  cursor: pointer;\n",
       "  display: block;\n",
       "  width: 100%;\n",
       "  margin-bottom: 0;\n",
       "  padding: 0.5em;\n",
       "  box-sizing: border-box;\n",
       "  text-align: center;\n",
       "}\n",
       "\n",
       "#sk-container-id-30 label.sk-toggleable__label-arrow:before {\n",
       "  /* Arrow on the left of the label */\n",
       "  content: \"▸\";\n",
       "  float: left;\n",
       "  margin-right: 0.25em;\n",
       "  color: var(--sklearn-color-icon);\n",
       "}\n",
       "\n",
       "#sk-container-id-30 label.sk-toggleable__label-arrow:hover:before {\n",
       "  color: var(--sklearn-color-text);\n",
       "}\n",
       "\n",
       "/* Toggleable content - dropdown */\n",
       "\n",
       "#sk-container-id-30 div.sk-toggleable__content {\n",
       "  max-height: 0;\n",
       "  max-width: 0;\n",
       "  overflow: hidden;\n",
       "  text-align: left;\n",
       "  /* unfitted */\n",
       "  background-color: var(--sklearn-color-unfitted-level-0);\n",
       "}\n",
       "\n",
       "#sk-container-id-30 div.sk-toggleable__content.fitted {\n",
       "  /* fitted */\n",
       "  background-color: var(--sklearn-color-fitted-level-0);\n",
       "}\n",
       "\n",
       "#sk-container-id-30 div.sk-toggleable__content pre {\n",
       "  margin: 0.2em;\n",
       "  border-radius: 0.25em;\n",
       "  color: var(--sklearn-color-text);\n",
       "  /* unfitted */\n",
       "  background-color: var(--sklearn-color-unfitted-level-0);\n",
       "}\n",
       "\n",
       "#sk-container-id-30 div.sk-toggleable__content.fitted pre {\n",
       "  /* unfitted */\n",
       "  background-color: var(--sklearn-color-fitted-level-0);\n",
       "}\n",
       "\n",
       "#sk-container-id-30 input.sk-toggleable__control:checked~div.sk-toggleable__content {\n",
       "  /* Expand drop-down */\n",
       "  max-height: 200px;\n",
       "  max-width: 100%;\n",
       "  overflow: auto;\n",
       "}\n",
       "\n",
       "#sk-container-id-30 input.sk-toggleable__control:checked~label.sk-toggleable__label-arrow:before {\n",
       "  content: \"▾\";\n",
       "}\n",
       "\n",
       "/* Pipeline/ColumnTransformer-specific style */\n",
       "\n",
       "#sk-container-id-30 div.sk-label input.sk-toggleable__control:checked~label.sk-toggleable__label {\n",
       "  color: var(--sklearn-color-text);\n",
       "  background-color: var(--sklearn-color-unfitted-level-2);\n",
       "}\n",
       "\n",
       "#sk-container-id-30 div.sk-label.fitted input.sk-toggleable__control:checked~label.sk-toggleable__label {\n",
       "  background-color: var(--sklearn-color-fitted-level-2);\n",
       "}\n",
       "\n",
       "/* Estimator-specific style */\n",
       "\n",
       "/* Colorize estimator box */\n",
       "#sk-container-id-30 div.sk-estimator input.sk-toggleable__control:checked~label.sk-toggleable__label {\n",
       "  /* unfitted */\n",
       "  background-color: var(--sklearn-color-unfitted-level-2);\n",
       "}\n",
       "\n",
       "#sk-container-id-30 div.sk-estimator.fitted input.sk-toggleable__control:checked~label.sk-toggleable__label {\n",
       "  /* fitted */\n",
       "  background-color: var(--sklearn-color-fitted-level-2);\n",
       "}\n",
       "\n",
       "#sk-container-id-30 div.sk-label label.sk-toggleable__label,\n",
       "#sk-container-id-30 div.sk-label label {\n",
       "  /* The background is the default theme color */\n",
       "  color: var(--sklearn-color-text-on-default-background);\n",
       "}\n",
       "\n",
       "/* On hover, darken the color of the background */\n",
       "#sk-container-id-30 div.sk-label:hover label.sk-toggleable__label {\n",
       "  color: var(--sklearn-color-text);\n",
       "  background-color: var(--sklearn-color-unfitted-level-2);\n",
       "}\n",
       "\n",
       "/* Label box, darken color on hover, fitted */\n",
       "#sk-container-id-30 div.sk-label.fitted:hover label.sk-toggleable__label.fitted {\n",
       "  color: var(--sklearn-color-text);\n",
       "  background-color: var(--sklearn-color-fitted-level-2);\n",
       "}\n",
       "\n",
       "/* Estimator label */\n",
       "\n",
       "#sk-container-id-30 div.sk-label label {\n",
       "  font-family: monospace;\n",
       "  font-weight: bold;\n",
       "  display: inline-block;\n",
       "  line-height: 1.2em;\n",
       "}\n",
       "\n",
       "#sk-container-id-30 div.sk-label-container {\n",
       "  text-align: center;\n",
       "}\n",
       "\n",
       "/* Estimator-specific */\n",
       "#sk-container-id-30 div.sk-estimator {\n",
       "  font-family: monospace;\n",
       "  border: 1px dotted var(--sklearn-color-border-box);\n",
       "  border-radius: 0.25em;\n",
       "  box-sizing: border-box;\n",
       "  margin-bottom: 0.5em;\n",
       "  /* unfitted */\n",
       "  background-color: var(--sklearn-color-unfitted-level-0);\n",
       "}\n",
       "\n",
       "#sk-container-id-30 div.sk-estimator.fitted {\n",
       "  /* fitted */\n",
       "  background-color: var(--sklearn-color-fitted-level-0);\n",
       "}\n",
       "\n",
       "/* on hover */\n",
       "#sk-container-id-30 div.sk-estimator:hover {\n",
       "  /* unfitted */\n",
       "  background-color: var(--sklearn-color-unfitted-level-2);\n",
       "}\n",
       "\n",
       "#sk-container-id-30 div.sk-estimator.fitted:hover {\n",
       "  /* fitted */\n",
       "  background-color: var(--sklearn-color-fitted-level-2);\n",
       "}\n",
       "\n",
       "/* Specification for estimator info (e.g. \"i\" and \"?\") */\n",
       "\n",
       "/* Common style for \"i\" and \"?\" */\n",
       "\n",
       ".sk-estimator-doc-link,\n",
       "a:link.sk-estimator-doc-link,\n",
       "a:visited.sk-estimator-doc-link {\n",
       "  float: right;\n",
       "  font-size: smaller;\n",
       "  line-height: 1em;\n",
       "  font-family: monospace;\n",
       "  background-color: var(--sklearn-color-background);\n",
       "  border-radius: 1em;\n",
       "  height: 1em;\n",
       "  width: 1em;\n",
       "  text-decoration: none !important;\n",
       "  margin-left: 1ex;\n",
       "  /* unfitted */\n",
       "  border: var(--sklearn-color-unfitted-level-1) 1pt solid;\n",
       "  color: var(--sklearn-color-unfitted-level-1);\n",
       "}\n",
       "\n",
       ".sk-estimator-doc-link.fitted,\n",
       "a:link.sk-estimator-doc-link.fitted,\n",
       "a:visited.sk-estimator-doc-link.fitted {\n",
       "  /* fitted */\n",
       "  border: var(--sklearn-color-fitted-level-1) 1pt solid;\n",
       "  color: var(--sklearn-color-fitted-level-1);\n",
       "}\n",
       "\n",
       "/* On hover */\n",
       "div.sk-estimator:hover .sk-estimator-doc-link:hover,\n",
       ".sk-estimator-doc-link:hover,\n",
       "div.sk-label-container:hover .sk-estimator-doc-link:hover,\n",
       ".sk-estimator-doc-link:hover {\n",
       "  /* unfitted */\n",
       "  background-color: var(--sklearn-color-unfitted-level-3);\n",
       "  color: var(--sklearn-color-background);\n",
       "  text-decoration: none;\n",
       "}\n",
       "\n",
       "div.sk-estimator.fitted:hover .sk-estimator-doc-link.fitted:hover,\n",
       ".sk-estimator-doc-link.fitted:hover,\n",
       "div.sk-label-container:hover .sk-estimator-doc-link.fitted:hover,\n",
       ".sk-estimator-doc-link.fitted:hover {\n",
       "  /* fitted */\n",
       "  background-color: var(--sklearn-color-fitted-level-3);\n",
       "  color: var(--sklearn-color-background);\n",
       "  text-decoration: none;\n",
       "}\n",
       "\n",
       "/* Span, style for the box shown on hovering the info icon */\n",
       ".sk-estimator-doc-link span {\n",
       "  display: none;\n",
       "  z-index: 9999;\n",
       "  position: relative;\n",
       "  font-weight: normal;\n",
       "  right: .2ex;\n",
       "  padding: .5ex;\n",
       "  margin: .5ex;\n",
       "  width: min-content;\n",
       "  min-width: 20ex;\n",
       "  max-width: 50ex;\n",
       "  color: var(--sklearn-color-text);\n",
       "  box-shadow: 2pt 2pt 4pt #999;\n",
       "  /* unfitted */\n",
       "  background: var(--sklearn-color-unfitted-level-0);\n",
       "  border: .5pt solid var(--sklearn-color-unfitted-level-3);\n",
       "}\n",
       "\n",
       ".sk-estimator-doc-link.fitted span {\n",
       "  /* fitted */\n",
       "  background: var(--sklearn-color-fitted-level-0);\n",
       "  border: var(--sklearn-color-fitted-level-3);\n",
       "}\n",
       "\n",
       ".sk-estimator-doc-link:hover span {\n",
       "  display: block;\n",
       "}\n",
       "\n",
       "/* \"?\"-specific style due to the `<a>` HTML tag */\n",
       "\n",
       "#sk-container-id-30 a.estimator_doc_link {\n",
       "  float: right;\n",
       "  font-size: 1rem;\n",
       "  line-height: 1em;\n",
       "  font-family: monospace;\n",
       "  background-color: var(--sklearn-color-background);\n",
       "  border-radius: 1rem;\n",
       "  height: 1rem;\n",
       "  width: 1rem;\n",
       "  text-decoration: none;\n",
       "  /* unfitted */\n",
       "  color: var(--sklearn-color-unfitted-level-1);\n",
       "  border: var(--sklearn-color-unfitted-level-1) 1pt solid;\n",
       "}\n",
       "\n",
       "#sk-container-id-30 a.estimator_doc_link.fitted {\n",
       "  /* fitted */\n",
       "  border: var(--sklearn-color-fitted-level-1) 1pt solid;\n",
       "  color: var(--sklearn-color-fitted-level-1);\n",
       "}\n",
       "\n",
       "/* On hover */\n",
       "#sk-container-id-30 a.estimator_doc_link:hover {\n",
       "  /* unfitted */\n",
       "  background-color: var(--sklearn-color-unfitted-level-3);\n",
       "  color: var(--sklearn-color-background);\n",
       "  text-decoration: none;\n",
       "}\n",
       "\n",
       "#sk-container-id-30 a.estimator_doc_link.fitted:hover {\n",
       "  /* fitted */\n",
       "  background-color: var(--sklearn-color-fitted-level-3);\n",
       "}\n",
       "</style><div id=\"sk-container-id-30\" class=\"sk-top-container\"><div class=\"sk-text-repr-fallback\"><pre>NearestNeighbors(metric=&#x27;manhattan&#x27;, n_neighbors=1502)</pre><b>In a Jupyter environment, please rerun this cell to show the HTML representation or trust the notebook. <br />On GitHub, the HTML representation is unable to render, please try loading this page with nbviewer.org.</b></div><div class=\"sk-container\" hidden><div class=\"sk-item\"><div class=\"sk-estimator fitted sk-toggleable\"><input class=\"sk-toggleable__control sk-hidden--visually\" id=\"sk-estimator-id-56\" type=\"checkbox\" checked><label for=\"sk-estimator-id-56\" class=\"sk-toggleable__label fitted sk-toggleable__label-arrow fitted\">&nbsp;&nbsp;NearestNeighbors<a class=\"sk-estimator-doc-link fitted\" rel=\"noreferrer\" target=\"_blank\" href=\"https://scikit-learn.org/1.5/modules/generated/sklearn.neighbors.NearestNeighbors.html\">?<span>Documentation for NearestNeighbors</span></a><span class=\"sk-estimator-doc-link fitted\">i<span>Fitted</span></span></label><div class=\"sk-toggleable__content fitted\"><pre>NearestNeighbors(metric=&#x27;manhattan&#x27;, n_neighbors=1502)</pre></div> </div></div></div></div>"
      ],
      "text/plain": [
       "NearestNeighbors(metric='manhattan', n_neighbors=1502)"
      ]
     },
     "execution_count": 442,
     "metadata": {},
     "output_type": "execute_result"
    }
   ],
   "source": [
    "# Создаём объект NearestNeighbors для поиска соседей в окне известного размера\n",
    "m, kern, k = \"manhattan\", EPANECHNIKOV_KERNEL, 101\n",
    "neigh = NearestNeighbors(n_neighbors=(max(ks) + 1), metric=m)\n",
    "neigh.fit(data_train)"
   ]
  },
  {
   "cell_type": "code",
   "execution_count": 443,
   "id": "3a358313-d8c2-45b9-bc99-9968b647db89",
   "metadata": {},
   "outputs": [],
   "source": [
    "# функция взвешивания для LOWESS\n",
    "def calc_weights(cls_positions, window_sizes, samples=None, cls_samples=None):\n",
    "    res = []\n",
    "    for i in tqdm(range(len(window_sizes))):\n",
    "        if samples is not None:\n",
    "            cur_cl = cls_samples[i]\n",
    "        else:\n",
    "            cur_cl = cls_positions[i]\n",
    "        neight_sizes = cls_positions[neigh.radius_neighbors(X=samples, radius=window_sizes[i], return_distance=False)[i]]\n",
    "        cur_cl_amount = (neight_sizes == cur_cl).sum()\n",
    "        res.append(cur_cl_amount / neight_sizes.shape[0])\n",
    "    res = 1 - np.array(res)\n",
    "    return res"
   ]
  },
  {
   "cell_type": "code",
   "execution_count": 444,
   "id": "7569a60d-03c9-46fc-9586-003982561c5c",
   "metadata": {},
   "outputs": [
    {
     "data": {
      "application/vnd.jupyter.widget-view+json": {
       "model_id": "5b3ffa232b704fe58f022d884b1ba9f5",
       "version_major": 2,
       "version_minor": 0
      },
      "text/plain": [
       "  0%|          | 0/4 [00:00<?, ?it/s]"
      ]
     },
     "metadata": {},
     "output_type": "display_data"
    },
    {
     "data": {
      "application/vnd.jupyter.widget-view+json": {
       "model_id": "eddd6ebe057a4611b38b0256d2453cb3",
       "version_major": 2,
       "version_minor": 0
      },
      "text/plain": [
       "  0%|          | 0/2400 [00:00<?, ?it/s]"
      ]
     },
     "metadata": {},
     "output_type": "display_data"
    },
    {
     "data": {
      "application/vnd.jupyter.widget-view+json": {
       "model_id": "65c206767d5e4eedbbbf7a03c1cee499",
       "version_major": 2,
       "version_minor": 0
      },
      "text/plain": [
       "  0%|          | 0/2400 [00:00<?, ?it/s]"
      ]
     },
     "metadata": {},
     "output_type": "display_data"
    },
    {
     "data": {
      "application/vnd.jupyter.widget-view+json": {
       "model_id": "1a3814068da245488aefca5f22bce0f6",
       "version_major": 2,
       "version_minor": 0
      },
      "text/plain": [
       "  0%|          | 0/2400 [00:00<?, ?it/s]"
      ]
     },
     "metadata": {},
     "output_type": "display_data"
    },
    {
     "data": {
      "application/vnd.jupyter.widget-view+json": {
       "model_id": "fa005e9ab5d14f1e9bcbc3590cfb7426",
       "version_major": 2,
       "version_minor": 0
      },
      "text/plain": [
       "  0%|          | 0/2400 [00:00<?, ?it/s]"
      ]
     },
     "metadata": {},
     "output_type": "display_data"
    },
    {
     "name": "stdout",
     "output_type": "stream",
     "text": [
      "Best score with weights:\t0.3425\n",
      "\tKernel:\tUniform\n"
     ]
    }
   ],
   "source": [
    "# для тренировочной выборки\n",
    "train_weighted_scores = []\n",
    "for kern_w in tqdm(KERNELS):  # в LOWESS ядро может отличаться от ядра в kNN, найдём лучшее\n",
    "    dists_train = neigh.kneighbors(data_train, k + 2)[0][:, -1]\n",
    "    dists_train = dists_train + (dists_train < EPS) * np.full(dists_train.shape, fill_value=EPS, dtype=np.float64)\n",
    "    weights = kern_w(calc_weights(ind_train_positions, dists_train))\n",
    "    predicted_train = windowed_classification(data_train, target_train, positions, m, \n",
    "                                              dists_train[:, None], kern, apr_weights=weights)\n",
    "    train_weighted_score = f1_score(predicted_train, ind_train_positions, average=\"micro\")\n",
    "    train_weighted_scores.append((train_weighted_score, str(kern_w)))\n",
    "best_score, best_kern = max(train_weighted_scores)\n",
    "print(f\"Best score with weights:\\t{best_score}\\n\\tKernel:\\t{str(best_kern)}\")"
   ]
  },
  {
   "cell_type": "code",
   "execution_count": 447,
   "id": "bdffabf1-48a6-42e8-9887-322cb21e4f63",
   "metadata": {},
   "outputs": [
    {
     "name": "stdout",
     "output_type": "stream",
     "text": [
      "Прирост на тренировочных данных после взвешивания: 0.003750000000000031\n"
     ]
    }
   ],
   "source": [
    "print(f\"Прирост на тренировочных данных после взвешивания: {best_score - best_non_fixed_width_score}\")"
   ]
  },
  {
   "cell_type": "code",
   "execution_count": 445,
   "id": "979d410b-d77d-48b5-82dc-a31e7a6cf5cf",
   "metadata": {},
   "outputs": [
    {
     "data": {
      "application/vnd.jupyter.widget-view+json": {
       "model_id": "39f867242a6f4d82a6b2e7e0cdfa2b7a",
       "version_major": 2,
       "version_minor": 0
      },
      "text/plain": [
       "  0%|          | 0/4 [00:00<?, ?it/s]"
      ]
     },
     "metadata": {},
     "output_type": "display_data"
    },
    {
     "data": {
      "application/vnd.jupyter.widget-view+json": {
       "model_id": "f2651d31c20f40558822ff052e79bb01",
       "version_major": 2,
       "version_minor": 0
      },
      "text/plain": [
       "  0%|          | 0/601 [00:00<?, ?it/s]"
      ]
     },
     "metadata": {},
     "output_type": "display_data"
    },
    {
     "data": {
      "application/vnd.jupyter.widget-view+json": {
       "model_id": "f375cbaa74af446eb0d126c137270777",
       "version_major": 2,
       "version_minor": 0
      },
      "text/plain": [
       "  0%|          | 0/601 [00:00<?, ?it/s]"
      ]
     },
     "metadata": {},
     "output_type": "display_data"
    },
    {
     "data": {
      "application/vnd.jupyter.widget-view+json": {
       "model_id": "cbd9f3e778944c1b8598ed7edd2bfe2b",
       "version_major": 2,
       "version_minor": 0
      },
      "text/plain": [
       "  0%|          | 0/601 [00:00<?, ?it/s]"
      ]
     },
     "metadata": {},
     "output_type": "display_data"
    },
    {
     "data": {
      "application/vnd.jupyter.widget-view+json": {
       "model_id": "1488d6a8014f4c6eb5bd522c1359ec5f",
       "version_major": 2,
       "version_minor": 0
      },
      "text/plain": [
       "  0%|          | 0/601 [00:00<?, ?it/s]"
      ]
     },
     "metadata": {},
     "output_type": "display_data"
    },
    {
     "name": "stdout",
     "output_type": "stream",
     "text": [
      "Best score with weights:\t0.3011647254575707\n",
      "\tKernel:\tUniform\n"
     ]
    }
   ],
   "source": [
    "# для тестовой выборки\n",
    "test_weighted_scores = []\n",
    "for kern_w in tqdm(KERNELS):  # в LOWESS ядро может отличаться от ядра в kNN, найдём лучшее\n",
    "    dists_test = neigh.kneighbors(data_test, k + 1)[0][:, -1]\n",
    "    dists_test = dists_test + (dists_test < EPS) * np.full(dists_test.shape, fill_value=EPS, dtype=np.float64)\n",
    "    weights = kern_w(calc_weights(ind_train_positions, dists_test, data_test, ind_test_positions))\n",
    "    predicted_test = windowed_classification(data_train, target_train, positions, m, \n",
    "                                             dists_test[:, None], kern, data_test, weights)\n",
    "    test_weighted_score = f1_score(predicted_test, ind_test_positions, average=\"micro\")\n",
    "    test_weighted_scores.append((test_weighted_score, str(kern_w)))\n",
    "best_score, best_kern = max(test_weighted_scores)\n",
    "print(f\"Best score with weights:\\t{best_score}\\n\\tKernel:\\t{str(best_kern)}\")"
   ]
  },
  {
   "cell_type": "code",
   "execution_count": 451,
   "id": "2c3a7bf4-2f80-43b9-a69e-cd2fb97ba3a5",
   "metadata": {},
   "outputs": [
    {
     "name": "stdout",
     "output_type": "stream",
     "text": [
      "Прирост на тестовых данных после взвешивания: 0.0016638935108153063\n"
     ]
    }
   ],
   "source": [
    "print(f\"Прирост на тестовых данных после взвешивания: {best_score - test_score}\")"
   ]
  },
  {
   "cell_type": "code",
   "execution_count": null,
   "id": "f6e26c5a-cc79-4b43-a053-9a212d1cfdc0",
   "metadata": {},
   "outputs": [],
   "source": []
  }
 ],
 "metadata": {
  "kernelspec": {
   "display_name": "Python 3 (ipykernel)",
   "language": "python",
   "name": "python3"
  },
  "language_info": {
   "codemirror_mode": {
    "name": "ipython",
    "version": 3
   },
   "file_extension": ".py",
   "mimetype": "text/x-python",
   "name": "python",
   "nbconvert_exporter": "python",
   "pygments_lexer": "ipython3",
   "version": "3.11.5"
  }
 },
 "nbformat": 4,
 "nbformat_minor": 5
}
